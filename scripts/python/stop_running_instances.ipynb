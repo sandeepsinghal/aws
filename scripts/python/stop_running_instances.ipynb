{
 "cells": [
  {
   "cell_type": "code",
   "execution_count": 4,
   "id": "5133c233",
   "metadata": {},
   "outputs": [],
   "source": [
    "import boto3\n",
    "ec2 = boto3.client('ec2', region_name='us-west-2')"
   ]
  },
  {
   "cell_type": "markdown",
   "id": "ebfb9b27",
   "metadata": {},
   "source": [
    "# Create and run 2 instances\n",
    "\n",
    "aws ec2 run-instances --image-id ami-06e85d4c3149db26a --count 2 --instance-type t2.micro --key-name MyKeyPair --subnet-id subnet-090e2af874db1a255"
   ]
  },
  {
   "cell_type": "code",
   "execution_count": 38,
   "id": "0066a5d3",
   "metadata": {},
   "outputs": [],
   "source": [
    "instances = ec2.describe_instances()"
   ]
  },
  {
   "cell_type": "code",
   "execution_count": 30,
   "id": "e46b1449",
   "metadata": {},
   "outputs": [
    {
     "data": {
      "text/plain": [
       "dict"
      ]
     },
     "execution_count": 30,
     "metadata": {},
     "output_type": "execute_result"
    }
   ],
   "source": [
    "type(instances)"
   ]
  },
  {
   "cell_type": "code",
   "execution_count": 39,
   "id": "bf5839e8",
   "metadata": {},
   "outputs": [
    {
     "name": "stdout",
     "output_type": "stream",
     "text": [
      "i-0446381649fe021a2 : running\n",
      "i-0ca065d8e2fa07800 : running\n",
      "['i-0446381649fe021a2', 'i-0ca065d8e2fa07800']\n"
     ]
    }
   ],
   "source": [
    "running_instances = []\n",
    "for i in instances['Reservations'][0]['Instances']:\n",
    "    state = i['State']['Name']\n",
    "    instance_id = i['InstanceId']\n",
    "    print(instance_id,':',state)\n",
    "    if (state == 'running'):\n",
    "        running_instances.append(instance_id)\n",
    "\n",
    "print(running_instances)"
   ]
  },
  {
   "cell_type": "code",
   "execution_count": 40,
   "id": "9072a56f",
   "metadata": {},
   "outputs": [
    {
     "data": {
      "text/plain": [
       "{'StoppingInstances': [{'CurrentState': {'Code': 64, 'Name': 'stopping'},\n",
       "   'InstanceId': 'i-0ca065d8e2fa07800',\n",
       "   'PreviousState': {'Code': 16, 'Name': 'running'}},\n",
       "  {'CurrentState': {'Code': 64, 'Name': 'stopping'},\n",
       "   'InstanceId': 'i-0446381649fe021a2',\n",
       "   'PreviousState': {'Code': 16, 'Name': 'running'}}],\n",
       " 'ResponseMetadata': {'RequestId': 'ad050099-c97e-41c9-b528-903692eceddb',\n",
       "  'HTTPStatusCode': 200,\n",
       "  'HTTPHeaders': {'x-amzn-requestid': 'ad050099-c97e-41c9-b528-903692eceddb',\n",
       "   'cache-control': 'no-cache, no-store',\n",
       "   'strict-transport-security': 'max-age=31536000; includeSubDomains',\n",
       "   'content-type': 'text/xml;charset=UTF-8',\n",
       "   'content-length': '918',\n",
       "   'date': 'Sat, 11 Feb 2023 23:11:43 GMT',\n",
       "   'server': 'AmazonEC2'},\n",
       "  'RetryAttempts': 0}}"
      ]
     },
     "execution_count": 40,
     "metadata": {},
     "output_type": "execute_result"
    }
   ],
   "source": [
    "response = ec2.stop_instances(InstanceIds=running_instances)\n",
    "response"
   ]
  },
  {
   "cell_type": "code",
   "execution_count": null,
   "id": "4c268231",
   "metadata": {},
   "outputs": [],
   "source": []
  }
 ],
 "metadata": {
  "kernelspec": {
   "display_name": "Python 3 (ipykernel)",
   "language": "python",
   "name": "python3"
  },
  "language_info": {
   "codemirror_mode": {
    "name": "ipython",
    "version": 3
   },
   "file_extension": ".py",
   "mimetype": "text/x-python",
   "name": "python",
   "nbconvert_exporter": "python",
   "pygments_lexer": "ipython3",
   "version": "3.9.16"
  }
 },
 "nbformat": 4,
 "nbformat_minor": 5
}
