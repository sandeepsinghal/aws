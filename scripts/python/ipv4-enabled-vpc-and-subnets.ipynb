{
 "cells": [
  {
   "cell_type": "markdown",
   "id": "25b2013a",
   "metadata": {},
   "source": [
    "# From Amazon Exercise\n",
    "https://docs.aws.amazon.com/vpc/latest/userguide/vpc-subnets-commands-example.html\n",
    "\n",
    "# boto documentation for EC2\n",
    "https://boto3.amazonaws.com/v1/documentation/api/latest/reference/services/ec2.html?highlight=routetable\n"
   ]
  },
  {
   "cell_type": "code",
   "execution_count": 14,
   "id": "c0ccea73",
   "metadata": {},
   "outputs": [],
   "source": [
    "import boto3"
   ]
  },
  {
   "cell_type": "code",
   "execution_count": 48,
   "id": "143a5240",
   "metadata": {},
   "outputs": [],
   "source": [
    "ec2 = boto3.resource('ec2', region_name='us-west-2')\n",
    "#client = boto3.client('ec2', region_name='us-west-2')"
   ]
  },
  {
   "cell_type": "markdown",
   "id": "721fbaed",
   "metadata": {},
   "source": [
    "aws ec2 create-vpc --cidr-block 10.0.0.0/16 --query Vpc.VpcId --output text"
   ]
  },
  {
   "cell_type": "code",
   "execution_count": 49,
   "id": "d76045c3",
   "metadata": {},
   "outputs": [],
   "source": [
    "vpc = ec2.create_vpc(CidrBlock='10.0.0.0/16')"
   ]
  },
  {
   "cell_type": "code",
   "execution_count": 50,
   "id": "9778600b",
   "metadata": {},
   "outputs": [
    {
     "data": {
      "text/plain": [
       "'vpc-0964b75769c5a41a1'"
      ]
     },
     "execution_count": 50,
     "metadata": {},
     "output_type": "execute_result"
    }
   ],
   "source": [
    "vpc.id"
   ]
  },
  {
   "cell_type": "markdown",
   "id": "b3d0d65a",
   "metadata": {},
   "source": [
    "# Creating 2 subnets in the VPC created above\n",
    "- aws ec2 create-subnet --vpc-id vpc-2f09a348 --cidr-block 10.0.1.0/24\n",
    "- aws ec2 create-subnet --vpc-id vpc-2f09a348 --cidr-block 10.0.0.0/24\n"
   ]
  },
  {
   "cell_type": "code",
   "execution_count": 52,
   "id": "f2230bef",
   "metadata": {},
   "outputs": [
    {
     "data": {
      "text/plain": [
       "ec2.Subnet(id='subnet-0e97120499befd735')"
      ]
     },
     "execution_count": 52,
     "metadata": {},
     "output_type": "execute_result"
    }
   ],
   "source": [
    "subnet_0 = ec2.create_subnet(VpcId=vpc.id, CidrBlock='10.0.0.0/24', AvailabilityZone='us-west-2a')\n",
    "subnet_0"
   ]
  },
  {
   "cell_type": "code",
   "execution_count": 55,
   "id": "a5c6abaa",
   "metadata": {},
   "outputs": [
    {
     "data": {
      "text/plain": [
       "'subnet-0f740276b448a578d'"
      ]
     },
     "execution_count": 55,
     "metadata": {},
     "output_type": "execute_result"
    }
   ],
   "source": [
    "subnet_1 = ec2.create_subnet(VpcId=vpc.id, CidrBlock='10.0.1.0/24', AvailabilityZone='us-west-2a')\n",
    "subnet_1.id"
   ]
  },
  {
   "cell_type": "markdown",
   "id": "e851d99b",
   "metadata": {},
   "source": [
    "# Creating an internet gateway to allow external traffic\n",
    "aws ec2 create-internet-gateway --query InternetGateway.InternetGatewayId --output text"
   ]
  },
  {
   "cell_type": "code",
   "execution_count": 56,
   "id": "44efe365",
   "metadata": {},
   "outputs": [
    {
     "data": {
      "text/plain": [
       "ec2.InternetGateway(id='igw-0a281624a2ebc8c00')"
      ]
     },
     "execution_count": 56,
     "metadata": {},
     "output_type": "execute_result"
    }
   ],
   "source": [
    "gw = ec2.create_internet_gateway()\n",
    "gw\n",
    "#gw = ec2.InternetGateway('igw-0656a5e09e0ffd725')"
   ]
  },
  {
   "cell_type": "markdown",
   "id": "28374814",
   "metadata": {},
   "source": [
    "# Attach Gateway to VPC\n",
    "aws ec2 attach-internet-gateway --vpc-id vpc-2f09a348 --internet-gateway-id igw-1ff7a07b"
   ]
  },
  {
   "cell_type": "code",
   "execution_count": 57,
   "id": "7dbe0a0e",
   "metadata": {},
   "outputs": [
    {
     "data": {
      "text/plain": [
       "{'ResponseMetadata': {'RequestId': 'd83f8936-0d40-466d-bfef-a6052d54a4d2',\n",
       "  'HTTPStatusCode': 200,\n",
       "  'HTTPHeaders': {'x-amzn-requestid': 'd83f8936-0d40-466d-bfef-a6052d54a4d2',\n",
       "   'cache-control': 'no-cache, no-store',\n",
       "   'strict-transport-security': 'max-age=31536000; includeSubDomains',\n",
       "   'content-type': 'text/xml;charset=UTF-8',\n",
       "   'content-length': '243',\n",
       "   'date': 'Sat, 11 Feb 2023 12:43:51 GMT',\n",
       "   'server': 'AmazonEC2'},\n",
       "  'RetryAttempts': 0}}"
      ]
     },
     "execution_count": 57,
     "metadata": {},
     "output_type": "execute_result"
    }
   ],
   "source": [
    "response = gw.attach_to_vpc(VpcId = vpc.id)\n",
    "response"
   ]
  },
  {
   "cell_type": "markdown",
   "id": "4ca4fa81",
   "metadata": {},
   "source": [
    "# Create a route table \"In a VPC\" to allow all internet traffic to a gateway and then to a subnet \n",
    "aws ec2 create-route-table --vpc-id vpc-2f09a348 --query RouteTable.RouteTableId --output text\n"
   ]
  },
  {
   "cell_type": "code",
   "execution_count": 58,
   "id": "8f3389a5",
   "metadata": {},
   "outputs": [
    {
     "data": {
      "text/plain": [
       "ec2.RouteTable(id='rtb-0b749dd33dbf37a50')"
      ]
     },
     "execution_count": 58,
     "metadata": {},
     "output_type": "execute_result"
    }
   ],
   "source": [
    "route_table = ec2.create_route_table(VpcId=vpc.id)\n",
    "route_table"
   ]
  },
  {
   "cell_type": "markdown",
   "id": "21714d35",
   "metadata": {},
   "source": [
    "# Create a route that points all traffic to the internet gateway \n",
    "aws ec2 create-route --route-table-id rtb-c1c8faa6 --destination-cidr-block 0.0.0.0/0 --gateway-id igw-1ff7a07b"
   ]
  },
  {
   "cell_type": "code",
   "execution_count": 59,
   "id": "2532e68a",
   "metadata": {},
   "outputs": [
    {
     "data": {
      "text/plain": [
       "ec2.Route(route_table_id='rtb-0b749dd33dbf37a50', destination_cidr_block='0.0.0.0/0')"
      ]
     },
     "execution_count": 59,
     "metadata": {},
     "output_type": "execute_result"
    }
   ],
   "source": [
    "route = route_table.create_route(DestinationCidrBlock='0.0.0.0/0', GatewayId=gw.id)\n",
    "route"
   ]
  },
  {
   "cell_type": "markdown",
   "id": "b39c759a",
   "metadata": {},
   "source": [
    "# Associsate route to one of the subnets created above (subnet_1)\n",
    "aws ec2 associate-route-table  --subnet-id subnet-b46032ec --route-table-id rtb-c1c8faa6"
   ]
  },
  {
   "cell_type": "code",
   "execution_count": 60,
   "id": "a5517b78",
   "metadata": {},
   "outputs": [
    {
     "data": {
      "text/plain": [
       "ec2.RouteTableAssociation(id='rtbassoc-0deae5cb11f1c00d7')"
      ]
     },
     "execution_count": 60,
     "metadata": {},
     "output_type": "execute_result"
    }
   ],
   "source": [
    "assoc = route_table.associate_with_subnet(SubnetId=subnet_1.id)\n",
    "assoc"
   ]
  },
  {
   "cell_type": "markdown",
   "id": "01f2c421",
   "metadata": {},
   "source": [
    "You can modify the public IP addressing behavior of your subnet so that an instance launched into the subnet automatically receives a public IP address using the following modify-subnet-attribute command"
   ]
  },
  {
   "cell_type": "code",
   "execution_count": 61,
   "id": "2c274e39",
   "metadata": {},
   "outputs": [],
   "source": [
    "response = client.modify_subnet_attribute(\n",
    "    MapPublicIpOnLaunch={\n",
    "        'Value': True,\n",
    "    },\n",
    "    SubnetId=subnet_1.id,\n",
    ")"
   ]
  },
  {
   "cell_type": "code",
   "execution_count": 62,
   "id": "52f26ded",
   "metadata": {},
   "outputs": [
    {
     "data": {
      "text/plain": [
       "{'ResponseMetadata': {'RequestId': '159b9c6d-0fd5-45fc-841f-b4957c4786d3',\n",
       "  'HTTPStatusCode': 200,\n",
       "  'HTTPHeaders': {'x-amzn-requestid': '159b9c6d-0fd5-45fc-841f-b4957c4786d3',\n",
       "   'cache-control': 'no-cache, no-store',\n",
       "   'strict-transport-security': 'max-age=31536000; includeSubDomains',\n",
       "   'content-type': 'text/xml;charset=UTF-8',\n",
       "   'content-length': '243',\n",
       "   'date': 'Sat, 11 Feb 2023 12:45:29 GMT',\n",
       "   'server': 'AmazonEC2'},\n",
       "  'RetryAttempts': 0}}"
      ]
     },
     "execution_count": 62,
     "metadata": {},
     "output_type": "execute_result"
    }
   ],
   "source": [
    "response"
   ]
  },
  {
   "cell_type": "markdown",
   "id": "320b69c1",
   "metadata": {},
   "source": [
    "# Launching an instance into the subnet"
   ]
  },
  {
   "cell_type": "markdown",
   "id": "6df2b1af",
   "metadata": {},
   "source": [
    "## Create a keypair"
   ]
  },
  {
   "cell_type": "code",
   "execution_count": 63,
   "id": "d1dc95f2",
   "metadata": {},
   "outputs": [],
   "source": [
    "# Run the following commands on command line \n",
    "# aws ec2 create-key-pair --key-name MyKeyPair --query \"KeyMaterial\" --output text > MyKeyPair.pem\n",
    "# chmod 400 MyKeyPair.pem"
   ]
  },
  {
   "cell_type": "markdown",
   "id": "cf609035",
   "metadata": {},
   "source": [
    "## Create a security group to allow ssh access \n",
    "\n",
    "aws ec2 create-security-group --group-name SSHAccess --description \"Security group for SSH access\" --vpc-id vpc-2f09a348"
   ]
  },
  {
   "cell_type": "code",
   "execution_count": 64,
   "id": "e530a4b6",
   "metadata": {},
   "outputs": [],
   "source": [
    "sg = ec2.create_security_group(Description='Security group for SSH access', GroupName='SSHAccess', VpcId=vpc.id)"
   ]
  },
  {
   "cell_type": "code",
   "execution_count": 65,
   "id": "6668702a",
   "metadata": {},
   "outputs": [
    {
     "data": {
      "text/plain": [
       "ec2.SecurityGroup(id='sg-0bf944ca57872c10e')"
      ]
     },
     "execution_count": 65,
     "metadata": {},
     "output_type": "execute_result"
    }
   ],
   "source": [
    "sg"
   ]
  },
  {
   "cell_type": "markdown",
   "id": "75d34831",
   "metadata": {},
   "source": [
    "## Authorize port 22 (ssh) access to the security group \n",
    "\n",
    "aws ec2 authorize-security-group-ingress --group-id sg-0b24589f6b07e54ac --protocol tcp --port 22 --cidr 0.0.0.0/0"
   ]
  },
  {
   "cell_type": "code",
   "execution_count": 66,
   "id": "cef0b6de",
   "metadata": {},
   "outputs": [],
   "source": [
    "response = sg.authorize_ingress(IpProtocol='tcp', FromPort=22, ToPort=22, CidrIp='0.0.0.0/0')"
   ]
  },
  {
   "cell_type": "markdown",
   "id": "1035a084",
   "metadata": {},
   "source": [
    "## Launch an Ec2 instance\n",
    "aws ec2 run-instances --image-id ami-06e85d4c3149db26a --count 1 --instance-type t2.micro --key-name MyKeyPair --security-group-ids sg-0b24589f6b07e54ac --subnet-id subnet-0bb7ea5088612392d\n",
    "\n",
    "### Finding a Linux AMI \n",
    "https://docs.aws.amazon.com/AWSEC2/latest/UserGuide/finding-an-ami.html"
   ]
  },
  {
   "cell_type": "code",
   "execution_count": 71,
   "id": "4c74f2a1",
   "metadata": {},
   "outputs": [],
   "source": [
    "#instance = client.run_instances(ImageId='ami-06e85d4c3149db26a', InstanceType='t2.micro', KeyName='MyKeyPair', \n",
    "#                                SecurityGroups= [sg.id], SubnetI#d=subnet_1.id, \n",
    "#                               MinCount=1, MaxCount=1)"
   ]
  },
  {
   "cell_type": "code",
   "execution_count": 72,
   "id": "26cf485d",
   "metadata": {},
   "outputs": [],
   "source": [
    "# aws ec2 describe-instances --instance-id i-0cc884253c909e121 --query \"Reservations[*].Instances[*].{State:State.Name,Address:PublicIpAddress}\""
   ]
  },
  {
   "cell_type": "code",
   "execution_count": null,
   "id": "425ba805",
   "metadata": {},
   "outputs": [],
   "source": []
  }
 ],
 "metadata": {
  "kernelspec": {
   "display_name": "Python 3 (ipykernel)",
   "language": "python",
   "name": "python3"
  },
  "language_info": {
   "codemirror_mode": {
    "name": "ipython",
    "version": 3
   },
   "file_extension": ".py",
   "mimetype": "text/x-python",
   "name": "python",
   "nbconvert_exporter": "python",
   "pygments_lexer": "ipython3",
   "version": "3.9.15"
  }
 },
 "nbformat": 4,
 "nbformat_minor": 5
}
