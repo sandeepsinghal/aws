{
 "cells": [
  {
   "cell_type": "markdown",
   "id": "25b2013a",
   "metadata": {},
   "source": [
    "# From Amazon Exercise\n",
    "https://docs.aws.amazon.com/vpc/latest/userguide/vpc-subnets-commands-example.html\n",
    "\n",
    "# boto documentation for EC2\n",
    "https://boto3.amazonaws.com/v1/documentation/api/latest/reference/services/ec2.html?highlight=routetable\n"
   ]
  },
  {
   "cell_type": "code",
   "execution_count": 2,
   "id": "c0ccea73",
   "metadata": {},
   "outputs": [],
   "source": [
    "import boto3"
   ]
  },
  {
   "cell_type": "code",
   "execution_count": 3,
   "id": "143a5240",
   "metadata": {},
   "outputs": [],
   "source": [
    "ec2 = boto3.resource('ec2', region_name='us-west-2')"
   ]
  },
  {
   "cell_type": "markdown",
   "id": "721fbaed",
   "metadata": {},
   "source": [
    "aws ec2 create-vpc --cidr-block 10.0.0.0/16 --query Vpc.VpcId --output text"
   ]
  },
  {
   "cell_type": "code",
   "execution_count": 8,
   "id": "d76045c3",
   "metadata": {},
   "outputs": [],
   "source": [
    "vpc = ec2.create_vpc(CidrBlock='10.0.0.0/16')"
   ]
  },
  {
   "cell_type": "code",
   "execution_count": 10,
   "id": "9778600b",
   "metadata": {},
   "outputs": [
    {
     "data": {
      "text/plain": [
       "'vpc-0708b5747ee571199'"
      ]
     },
     "execution_count": 10,
     "metadata": {},
     "output_type": "execute_result"
    }
   ],
   "source": [
    "vpc.id"
   ]
  },
  {
   "cell_type": "markdown",
   "id": "b3d0d65a",
   "metadata": {},
   "source": [
    "# Creating 2 subnets in the VPC created above\n",
    "- aws ec2 create-subnet --vpc-id vpc-2f09a348 --cidr-block 10.0.1.0/24\n",
    "- aws ec2 create-subnet --vpc-id vpc-2f09a348 --cidr-block 10.0.0.0/24\n"
   ]
  },
  {
   "cell_type": "code",
   "execution_count": 12,
   "id": "f2230bef",
   "metadata": {},
   "outputs": [],
   "source": [
    "subnet_0 = ec2.create_subnet(VpcId=vpc.id, CidrBlock='10.0.0.0/24' )"
   ]
  },
  {
   "cell_type": "code",
   "execution_count": 13,
   "id": "a5c6abaa",
   "metadata": {},
   "outputs": [],
   "source": [
    "subnet_1 = ec2.create_subnet(VpcId=vpc.id, CidrBlock='10.0.1.0/24' )"
   ]
  },
  {
   "cell_type": "markdown",
   "id": "e851d99b",
   "metadata": {},
   "source": [
    "# Creating an internet gateway to allow external traffic\n",
    "aws ec2 create-internet-gateway --query InternetGateway.InternetGatewayId --output text"
   ]
  },
  {
   "cell_type": "code",
   "execution_count": 16,
   "id": "44efe365",
   "metadata": {},
   "outputs": [
    {
     "data": {
      "text/plain": [
       "ec2.InternetGateway(id='igw-0656a5e09e0ffd725')"
      ]
     },
     "execution_count": 16,
     "metadata": {},
     "output_type": "execute_result"
    }
   ],
   "source": [
    "gw = ec2.create_internet_gateway()"
   ]
  },
  {
   "cell_type": "code",
   "execution_count": 18,
   "id": "2a5832b9",
   "metadata": {},
   "outputs": [],
   "source": [
    "gw = ec2.InternetGateway('igw-0656a5e09e0ffd725')"
   ]
  },
  {
   "cell_type": "code",
   "execution_count": 20,
   "id": "8eaa3702",
   "metadata": {},
   "outputs": [
    {
     "data": {
      "text/plain": [
       "ec2.InternetGateway(id='igw-0656a5e09e0ffd725')"
      ]
     },
     "execution_count": 20,
     "metadata": {},
     "output_type": "execute_result"
    }
   ],
   "source": [
    "gw"
   ]
  },
  {
   "cell_type": "markdown",
   "id": "28374814",
   "metadata": {},
   "source": [
    "# Attach Gateway to VPC\n",
    "aws ec2 attach-internet-gateway --vpc-id vpc-2f09a348 --internet-gateway-id igw-1ff7a07b"
   ]
  },
  {
   "cell_type": "code",
   "execution_count": 25,
   "id": "7dbe0a0e",
   "metadata": {},
   "outputs": [
    {
     "data": {
      "text/plain": [
       "{'ResponseMetadata': {'RequestId': '2b3b24ae-2cc3-4029-8aa4-dd627f757469',\n",
       "  'HTTPStatusCode': 200,\n",
       "  'HTTPHeaders': {'x-amzn-requestid': '2b3b24ae-2cc3-4029-8aa4-dd627f757469',\n",
       "   'cache-control': 'no-cache, no-store',\n",
       "   'strict-transport-security': 'max-age=31536000; includeSubDomains',\n",
       "   'content-type': 'text/xml;charset=UTF-8',\n",
       "   'content-length': '243',\n",
       "   'date': 'Sun, 05 Feb 2023 13:55:11 GMT',\n",
       "   'server': 'AmazonEC2'},\n",
       "  'RetryAttempts': 0}}"
      ]
     },
     "execution_count": 25,
     "metadata": {},
     "output_type": "execute_result"
    }
   ],
   "source": [
    "response = gw.attach_to_vpc(VpcId = vpc.id)\n",
    "response"
   ]
  },
  {
   "cell_type": "markdown",
   "id": "4ca4fa81",
   "metadata": {},
   "source": [
    "# Create a route table \"In a VPC\" to allow all internet traffic to a gateway and then to a subnet \n",
    "aws ec2 create-route-table --vpc-id vpc-2f09a348 --query RouteTable.RouteTableId --output text\n"
   ]
  },
  {
   "cell_type": "code",
   "execution_count": 27,
   "id": "8f3389a5",
   "metadata": {},
   "outputs": [],
   "source": [
    "route_table = ec2.create_route_table(VpcId=vpc.id)"
   ]
  },
  {
   "cell_type": "code",
   "execution_count": 28,
   "id": "d81b16b6",
   "metadata": {},
   "outputs": [
    {
     "data": {
      "text/plain": [
       "ec2.RouteTable(id='rtb-08f5bebb85b644da0')"
      ]
     },
     "execution_count": 28,
     "metadata": {},
     "output_type": "execute_result"
    }
   ],
   "source": [
    "route_table"
   ]
  },
  {
   "cell_type": "markdown",
   "id": "21714d35",
   "metadata": {},
   "source": [
    "# Create a route that points all traffic to the internet gateway \n",
    "aws ec2 create-route --route-table-id rtb-c1c8faa6 --destination-cidr-block 0.0.0.0/0 --gateway-id igw-1ff7a07b"
   ]
  },
  {
   "cell_type": "code",
   "execution_count": 32,
   "id": "2532e68a",
   "metadata": {},
   "outputs": [],
   "source": [
    "route = route_table.create_route(DestinationCidrBlock='0.0.0.0/0', GatewayId=gw.id)"
   ]
  },
  {
   "cell_type": "code",
   "execution_count": 38,
   "id": "27bc9767",
   "metadata": {},
   "outputs": [
    {
     "data": {
      "text/plain": [
       "ec2.Route(route_table_id='rtb-08f5bebb85b644da0', destination_cidr_block='0.0.0.0/0')"
      ]
     },
     "execution_count": 38,
     "metadata": {},
     "output_type": "execute_result"
    }
   ],
   "source": [
    "route"
   ]
  },
  {
   "cell_type": "markdown",
   "id": "b39c759a",
   "metadata": {},
   "source": [
    "# Associsate route to one of the subnets created above (subnet_1)\n",
    "aws ec2 associate-route-table  --subnet-id subnet-b46032ec --route-table-id rtb-c1c8faa6"
   ]
  },
  {
   "cell_type": "code",
   "execution_count": 41,
   "id": "a5517b78",
   "metadata": {},
   "outputs": [
    {
     "data": {
      "text/plain": [
       "ec2.RouteTableAssociation(id='rtbassoc-01ee9f21df42b9926')"
      ]
     },
     "execution_count": 41,
     "metadata": {},
     "output_type": "execute_result"
    }
   ],
   "source": [
    "assoc = route_table.associate_with_subnet(SubnetId=subnet_1.id)\n",
    "assoc"
   ]
  },
  {
   "cell_type": "code",
   "execution_count": 4,
   "id": "a1cee0f9",
   "metadata": {},
   "outputs": [],
   "source": [
    "gw = ec2.InternetGateway('igw-0656a5e09e0ffd725')"
   ]
  },
  {
   "cell_type": "code",
   "execution_count": 5,
   "id": "e02eb491",
   "metadata": {},
   "outputs": [],
   "source": [
    "route_table = ec2.RouteTable('rtb-08f5bebb85b644da0')"
   ]
  },
  {
   "cell_type": "code",
   "execution_count": 6,
   "id": "916ef59e",
   "metadata": {},
   "outputs": [],
   "source": [
    "vpc = ec2.Vpc('vpc-0708b5747ee571199')"
   ]
  },
  {
   "cell_type": "code",
   "execution_count": null,
   "id": "9994fcf7",
   "metadata": {},
   "outputs": [],
   "source": []
  }
 ],
 "metadata": {
  "kernelspec": {
   "display_name": "Python 3 (ipykernel)",
   "language": "python",
   "name": "python3"
  },
  "language_info": {
   "codemirror_mode": {
    "name": "ipython",
    "version": 3
   },
   "file_extension": ".py",
   "mimetype": "text/x-python",
   "name": "python",
   "nbconvert_exporter": "python",
   "pygments_lexer": "ipython3",
   "version": "3.10.6"
  }
 },
 "nbformat": 4,
 "nbformat_minor": 5
}
