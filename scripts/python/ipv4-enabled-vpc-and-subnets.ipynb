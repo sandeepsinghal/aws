{
 "cells": [
  {
   "cell_type": "markdown",
   "id": "25b2013a",
   "metadata": {},
   "source": [
    "# From Amazon Exercise\n",
    "https://docs.aws.amazon.com/vpc/latest/userguide/vpc-subnets-commands-example.html\n",
    "\n",
    "# boto documentation for EC2\n",
    "https://boto3.amazonaws.com/v1/documentation/api/latest/reference/services/ec2.html?highlight=routetable\n"
   ]
  },
  {
   "cell_type": "code",
   "execution_count": 14,
   "id": "c0ccea73",
   "metadata": {},
   "outputs": [],
   "source": [
    "import boto3"
   ]
  },
  {
   "cell_type": "code",
   "execution_count": 25,
   "id": "143a5240",
   "metadata": {},
   "outputs": [],
   "source": [
    "ec2 = boto3.resource('ec2', region_name='us-west-2')\n",
    "client = boto3.client('ec2', region_name='us-west-2')"
   ]
  },
  {
   "cell_type": "markdown",
   "id": "721fbaed",
   "metadata": {},
   "source": [
    "aws ec2 create-vpc --cidr-block 10.0.0.0/16 --query Vpc.VpcId --output text"
   ]
  },
  {
   "cell_type": "code",
   "execution_count": 8,
   "id": "d76045c3",
   "metadata": {},
   "outputs": [],
   "source": [
    "vpc = ec2.create_vpc(CidrBlock='10.0.0.0/16')"
   ]
  },
  {
   "cell_type": "code",
   "execution_count": 10,
   "id": "9778600b",
   "metadata": {},
   "outputs": [
    {
     "data": {
      "text/plain": [
       "'vpc-0708b5747ee571199'"
      ]
     },
     "execution_count": 10,
     "metadata": {},
     "output_type": "execute_result"
    }
   ],
   "source": [
    "vpc.id"
   ]
  },
  {
   "cell_type": "markdown",
   "id": "b3d0d65a",
   "metadata": {},
   "source": [
    "# Creating 2 subnets in the VPC created above\n",
    "- aws ec2 create-subnet --vpc-id vpc-2f09a348 --cidr-block 10.0.1.0/24\n",
    "- aws ec2 create-subnet --vpc-id vpc-2f09a348 --cidr-block 10.0.0.0/24\n"
   ]
  },
  {
   "cell_type": "code",
   "execution_count": 12,
   "id": "f2230bef",
   "metadata": {},
   "outputs": [],
   "source": [
    "subnet_0 = ec2.create_subnet(VpcId=vpc.id, CidrBlock='10.0.0.0/24' )"
   ]
  },
  {
   "cell_type": "code",
   "execution_count": 13,
   "id": "a5c6abaa",
   "metadata": {},
   "outputs": [],
   "source": [
    "subnet_1 = ec2.create_subnet(VpcId=vpc.id, CidrBlock='10.0.1.0/24' )"
   ]
  },
  {
   "cell_type": "markdown",
   "id": "e851d99b",
   "metadata": {},
   "source": [
    "# Creating an internet gateway to allow external traffic\n",
    "aws ec2 create-internet-gateway --query InternetGateway.InternetGatewayId --output text"
   ]
  },
  {
   "cell_type": "code",
   "execution_count": 16,
   "id": "44efe365",
   "metadata": {},
   "outputs": [
    {
     "data": {
      "text/plain": [
       "ec2.InternetGateway(id='igw-0656a5e09e0ffd725')"
      ]
     },
     "execution_count": 16,
     "metadata": {},
     "output_type": "execute_result"
    }
   ],
   "source": [
    "gw = ec2.create_internet_gateway()"
   ]
  },
  {
   "cell_type": "code",
   "execution_count": 18,
   "id": "2a5832b9",
   "metadata": {},
   "outputs": [],
   "source": [
    "gw = ec2.InternetGateway('igw-0656a5e09e0ffd725')"
   ]
  },
  {
   "cell_type": "code",
   "execution_count": 20,
   "id": "8eaa3702",
   "metadata": {},
   "outputs": [
    {
     "data": {
      "text/plain": [
       "ec2.InternetGateway(id='igw-0656a5e09e0ffd725')"
      ]
     },
     "execution_count": 20,
     "metadata": {},
     "output_type": "execute_result"
    }
   ],
   "source": [
    "gw"
   ]
  },
  {
   "cell_type": "markdown",
   "id": "28374814",
   "metadata": {},
   "source": [
    "# Attach Gateway to VPC\n",
    "aws ec2 attach-internet-gateway --vpc-id vpc-2f09a348 --internet-gateway-id igw-1ff7a07b"
   ]
  },
  {
   "cell_type": "code",
   "execution_count": 25,
   "id": "7dbe0a0e",
   "metadata": {},
   "outputs": [
    {
     "data": {
      "text/plain": [
       "{'ResponseMetadata': {'RequestId': '2b3b24ae-2cc3-4029-8aa4-dd627f757469',\n",
       "  'HTTPStatusCode': 200,\n",
       "  'HTTPHeaders': {'x-amzn-requestid': '2b3b24ae-2cc3-4029-8aa4-dd627f757469',\n",
       "   'cache-control': 'no-cache, no-store',\n",
       "   'strict-transport-security': 'max-age=31536000; includeSubDomains',\n",
       "   'content-type': 'text/xml;charset=UTF-8',\n",
       "   'content-length': '243',\n",
       "   'date': 'Sun, 05 Feb 2023 13:55:11 GMT',\n",
       "   'server': 'AmazonEC2'},\n",
       "  'RetryAttempts': 0}}"
      ]
     },
     "execution_count": 25,
     "metadata": {},
     "output_type": "execute_result"
    }
   ],
   "source": [
    "response = gw.attach_to_vpc(VpcId = vpc.id)\n",
    "response"
   ]
  },
  {
   "cell_type": "markdown",
   "id": "4ca4fa81",
   "metadata": {},
   "source": [
    "# Create a route table \"In a VPC\" to allow all internet traffic to a gateway and then to a subnet \n",
    "aws ec2 create-route-table --vpc-id vpc-2f09a348 --query RouteTable.RouteTableId --output text\n"
   ]
  },
  {
   "cell_type": "code",
   "execution_count": 27,
   "id": "8f3389a5",
   "metadata": {},
   "outputs": [],
   "source": [
    "route_table = ec2.create_route_table(VpcId=vpc.id)"
   ]
  },
  {
   "cell_type": "code",
   "execution_count": 28,
   "id": "d81b16b6",
   "metadata": {},
   "outputs": [
    {
     "data": {
      "text/plain": [
       "ec2.RouteTable(id='rtb-08f5bebb85b644da0')"
      ]
     },
     "execution_count": 28,
     "metadata": {},
     "output_type": "execute_result"
    }
   ],
   "source": [
    "route_table"
   ]
  },
  {
   "cell_type": "markdown",
   "id": "21714d35",
   "metadata": {},
   "source": [
    "# Create a route that points all traffic to the internet gateway \n",
    "aws ec2 create-route --route-table-id rtb-c1c8faa6 --destination-cidr-block 0.0.0.0/0 --gateway-id igw-1ff7a07b"
   ]
  },
  {
   "cell_type": "code",
   "execution_count": 32,
   "id": "2532e68a",
   "metadata": {},
   "outputs": [],
   "source": [
    "route = route_table.create_route(DestinationCidrBlock='0.0.0.0/0', GatewayId=gw.id)"
   ]
  },
  {
   "cell_type": "code",
   "execution_count": 38,
   "id": "27bc9767",
   "metadata": {},
   "outputs": [
    {
     "data": {
      "text/plain": [
       "ec2.Route(route_table_id='rtb-08f5bebb85b644da0', destination_cidr_block='0.0.0.0/0')"
      ]
     },
     "execution_count": 38,
     "metadata": {},
     "output_type": "execute_result"
    }
   ],
   "source": [
    "route"
   ]
  },
  {
   "cell_type": "markdown",
   "id": "b39c759a",
   "metadata": {},
   "source": [
    "# Associsate route to one of the subnets created above (subnet_1)\n",
    "aws ec2 associate-route-table  --subnet-id subnet-b46032ec --route-table-id rtb-c1c8faa6"
   ]
  },
  {
   "cell_type": "code",
   "execution_count": 41,
   "id": "a5517b78",
   "metadata": {},
   "outputs": [
    {
     "data": {
      "text/plain": [
       "ec2.RouteTableAssociation(id='rtbassoc-01ee9f21df42b9926')"
      ]
     },
     "execution_count": 41,
     "metadata": {},
     "output_type": "execute_result"
    }
   ],
   "source": [
    "assoc = route_table.associate_with_subnet(SubnetId=subnet_1.id)\n",
    "assoc"
   ]
  },
  {
   "cell_type": "code",
   "execution_count": 16,
   "id": "a1cee0f9",
   "metadata": {},
   "outputs": [],
   "source": [
    "gw = ec2.InternetGateway('igw-0656a5e09e0ffd725')"
   ]
  },
  {
   "cell_type": "code",
   "execution_count": 17,
   "id": "e02eb491",
   "metadata": {},
   "outputs": [],
   "source": [
    "route_table = ec2.RouteTable('rtb-08f5bebb85b644da0')"
   ]
  },
  {
   "cell_type": "code",
   "execution_count": 18,
   "id": "916ef59e",
   "metadata": {},
   "outputs": [],
   "source": [
    "vpc = ec2.Vpc('vpc-0708b5747ee571199')"
   ]
  },
  {
   "cell_type": "code",
   "execution_count": 19,
   "id": "daf6ea62",
   "metadata": {},
   "outputs": [],
   "source": [
    "subnet_0 = ec2.Subnet(id='subnet-00c4124dcecf14ea1')\n",
    "subnet_1 = ec2.Subnet(id='subnet-0bb7ea5088612392d')"
   ]
  },
  {
   "cell_type": "code",
   "execution_count": 20,
   "id": "840faa6d",
   "metadata": {},
   "outputs": [
    {
     "data": {
      "text/plain": [
       "'subnet-0bb7ea5088612392d'"
      ]
     },
     "execution_count": 20,
     "metadata": {},
     "output_type": "execute_result"
    }
   ],
   "source": [
    "subnet_1.id"
   ]
  },
  {
   "cell_type": "markdown",
   "id": "fdff4fb1",
   "metadata": {},
   "source": [
    "You can modify the public IP addressing behavior of your subnet so that an instance launched into the subnet automatically receives a public IP address using the following modify-subnet-attribute command"
   ]
  },
  {
   "cell_type": "code",
   "execution_count": 29,
   "id": "4a4e424e",
   "metadata": {},
   "outputs": [],
   "source": [
    "response = client.modify_subnet_attribute(\n",
    "    MapPublicIpOnLaunch={\n",
    "        'Value': True,\n",
    "    },\n",
    "    SubnetId=subnet_1.id,\n",
    ")"
   ]
  },
  {
   "cell_type": "code",
   "execution_count": 27,
   "id": "360ecbe9",
   "metadata": {},
   "outputs": [
    {
     "data": {
      "text/plain": [
       "{'ResponseMetadata': {'RequestId': 'c6466078-6584-44ef-984d-fc262cd6b28c',\n",
       "  'HTTPStatusCode': 200,\n",
       "  'HTTPHeaders': {'x-amzn-requestid': 'c6466078-6584-44ef-984d-fc262cd6b28c',\n",
       "   'cache-control': 'no-cache, no-store',\n",
       "   'strict-transport-security': 'max-age=31536000; includeSubDomains',\n",
       "   'content-type': 'text/xml;charset=UTF-8',\n",
       "   'content-length': '243',\n",
       "   'date': 'Thu, 09 Feb 2023 22:53:45 GMT',\n",
       "   'server': 'AmazonEC2'},\n",
       "  'RetryAttempts': 0}}"
      ]
     },
     "execution_count": 27,
     "metadata": {},
     "output_type": "execute_result"
    }
   ],
   "source": [
    "response"
   ]
  },
  {
   "cell_type": "markdown",
   "id": "309dc8ef",
   "metadata": {},
   "source": [
    "# Launching an instance into the subnet"
   ]
  },
  {
   "cell_type": "markdown",
   "id": "15784581",
   "metadata": {},
   "source": [
    "## Create a keypair"
   ]
  },
  {
   "cell_type": "code",
   "execution_count": 38,
   "id": "5e74bbc0",
   "metadata": {},
   "outputs": [],
   "source": [
    "# Run the following commands on command line \n",
    "# aws ec2 create-key-pair --key-name MyKeyPair --query \"KeyMaterial\" --output text > MyKeyPair.pem\n",
    "# chmod 400 MyKeyPair.pem"
   ]
  },
  {
   "cell_type": "markdown",
   "id": "e617401b",
   "metadata": {},
   "source": [
    "## Create a security group to allow ssh access \n",
    "\n",
    "aws ec2 create-security-group --group-name SSHAccess --description \"Security group for SSH access\" --vpc-id vpc-2f09a348"
   ]
  },
  {
   "cell_type": "code",
   "execution_count": 39,
   "id": "cf5ddf17",
   "metadata": {},
   "outputs": [],
   "source": [
    "sg = ec2.create_security_group(Description='Security group for SSH access', GroupName='SSHAccess', VpcId=vpc.id)"
   ]
  },
  {
   "cell_type": "code",
   "execution_count": 40,
   "id": "ded2283d",
   "metadata": {},
   "outputs": [
    {
     "data": {
      "text/plain": [
       "ec2.SecurityGroup(id='sg-0b24589f6b07e54ac')"
      ]
     },
     "execution_count": 40,
     "metadata": {},
     "output_type": "execute_result"
    }
   ],
   "source": [
    "sg"
   ]
  },
  {
   "cell_type": "markdown",
   "id": "6ce7870d",
   "metadata": {},
   "source": [
    "## Authorize port 22 (ssh) access to the security group \n",
    "\n",
    "aws ec2 authorize-security-group-ingress --group-id sg-0b24589f6b07e54ac --protocol tcp --port 22 --cidr 0.0.0.0/0"
   ]
  },
  {
   "cell_type": "code",
   "execution_count": 43,
   "id": "c4d331ba",
   "metadata": {},
   "outputs": [],
   "source": [
    "response = sg.authorize_ingress(IpProtocol='tcp', FromPort=22, ToPort=22, CidrIp='0.0.0.0/0')"
   ]
  },
  {
   "cell_type": "markdown",
   "id": "0690fcfc",
   "metadata": {},
   "source": [
    "## Launch an Ec2 instance\n",
    "aws ec2 run-instances --image-id ami-06e85d4c3149db26a --count 1 --instance-type t2.micro --key-name MyKeyPair --security-group-ids sg-0b24589f6b07e54ac --subnet-id subnet-0bb7ea5088612392d\n",
    "\n",
    "### Finding a Linux AMI \n",
    "https://docs.aws.amazon.com/AWSEC2/latest/UserGuide/finding-an-ami.html"
   ]
  },
  {
   "cell_type": "code",
   "execution_count": 47,
   "id": "d492bf2f",
   "metadata": {},
   "outputs": [
    {
     "ename": "ClientError",
     "evalue": "An error occurred (InvalidParameterCombination) when calling the RunInstances operation: The parameter groupName cannot be used with the parameter subnet",
     "output_type": "error",
     "traceback": [
      "\u001b[0;31m---------------------------------------------------------------------------\u001b[0m",
      "\u001b[0;31mClientError\u001b[0m                               Traceback (most recent call last)",
      "Cell \u001b[0;32mIn[47], line 1\u001b[0m\n\u001b[0;32m----> 1\u001b[0m instance \u001b[38;5;241m=\u001b[39m \u001b[43mclient\u001b[49m\u001b[38;5;241;43m.\u001b[39;49m\u001b[43mrun_instances\u001b[49m\u001b[43m(\u001b[49m\u001b[43mImageId\u001b[49m\u001b[38;5;241;43m=\u001b[39;49m\u001b[38;5;124;43m'\u001b[39;49m\u001b[38;5;124;43mami-06e85d4c3149db26a\u001b[39;49m\u001b[38;5;124;43m'\u001b[39;49m\u001b[43m,\u001b[49m\u001b[43m \u001b[49m\u001b[43mInstanceType\u001b[49m\u001b[38;5;241;43m=\u001b[39;49m\u001b[38;5;124;43m'\u001b[39;49m\u001b[38;5;124;43mt2.micro\u001b[39;49m\u001b[38;5;124;43m'\u001b[39;49m\u001b[43m,\u001b[49m\u001b[43m \u001b[49m\u001b[43mKeyName\u001b[49m\u001b[38;5;241;43m=\u001b[39;49m\u001b[38;5;124;43m'\u001b[39;49m\u001b[38;5;124;43mMyKeyPair\u001b[39;49m\u001b[38;5;124;43m'\u001b[39;49m\u001b[43m,\u001b[49m\u001b[43m \u001b[49m\n\u001b[1;32m      2\u001b[0m \u001b[43m                                \u001b[49m\u001b[43mSecurityGroups\u001b[49m\u001b[38;5;241;43m=\u001b[39;49m\u001b[43m \u001b[49m\u001b[43m[\u001b[49m\u001b[43msg\u001b[49m\u001b[38;5;241;43m.\u001b[39;49m\u001b[43mid\u001b[49m\u001b[43m]\u001b[49m\u001b[43m,\u001b[49m\u001b[43m \u001b[49m\u001b[43mSubnetId\u001b[49m\u001b[38;5;241;43m=\u001b[39;49m\u001b[43msubnet_1\u001b[49m\u001b[38;5;241;43m.\u001b[39;49m\u001b[43mid\u001b[49m\u001b[43m,\u001b[49m\u001b[43m \u001b[49m\n\u001b[1;32m      3\u001b[0m \u001b[43m                               \u001b[49m\u001b[43mMinCount\u001b[49m\u001b[38;5;241;43m=\u001b[39;49m\u001b[38;5;241;43m1\u001b[39;49m\u001b[43m,\u001b[49m\u001b[43m \u001b[49m\u001b[43mMaxCount\u001b[49m\u001b[38;5;241;43m=\u001b[39;49m\u001b[38;5;241;43m1\u001b[39;49m\u001b[43m)\u001b[49m\n",
      "File \u001b[0;32m/Users/Shared/u001/src/github/aws/scripts/python/venv3/lib/python3.9/site-packages/botocore/client.py:530\u001b[0m, in \u001b[0;36mClientCreator._create_api_method.<locals>._api_call\u001b[0;34m(self, *args, **kwargs)\u001b[0m\n\u001b[1;32m    526\u001b[0m     \u001b[38;5;28;01mraise\u001b[39;00m \u001b[38;5;167;01mTypeError\u001b[39;00m(\n\u001b[1;32m    527\u001b[0m         \u001b[38;5;124mf\u001b[39m\u001b[38;5;124m\"\u001b[39m\u001b[38;5;132;01m{\u001b[39;00mpy_operation_name\u001b[38;5;132;01m}\u001b[39;00m\u001b[38;5;124m() only accepts keyword arguments.\u001b[39m\u001b[38;5;124m\"\u001b[39m\n\u001b[1;32m    528\u001b[0m     )\n\u001b[1;32m    529\u001b[0m \u001b[38;5;66;03m# The \"self\" in this scope is referring to the BaseClient.\u001b[39;00m\n\u001b[0;32m--> 530\u001b[0m \u001b[38;5;28;01mreturn\u001b[39;00m \u001b[38;5;28;43mself\u001b[39;49m\u001b[38;5;241;43m.\u001b[39;49m\u001b[43m_make_api_call\u001b[49m\u001b[43m(\u001b[49m\u001b[43moperation_name\u001b[49m\u001b[43m,\u001b[49m\u001b[43m \u001b[49m\u001b[43mkwargs\u001b[49m\u001b[43m)\u001b[49m\n",
      "File \u001b[0;32m/Users/Shared/u001/src/github/aws/scripts/python/venv3/lib/python3.9/site-packages/botocore/client.py:960\u001b[0m, in \u001b[0;36mBaseClient._make_api_call\u001b[0;34m(self, operation_name, api_params)\u001b[0m\n\u001b[1;32m    958\u001b[0m     error_code \u001b[38;5;241m=\u001b[39m parsed_response\u001b[38;5;241m.\u001b[39mget(\u001b[38;5;124m\"\u001b[39m\u001b[38;5;124mError\u001b[39m\u001b[38;5;124m\"\u001b[39m, {})\u001b[38;5;241m.\u001b[39mget(\u001b[38;5;124m\"\u001b[39m\u001b[38;5;124mCode\u001b[39m\u001b[38;5;124m\"\u001b[39m)\n\u001b[1;32m    959\u001b[0m     error_class \u001b[38;5;241m=\u001b[39m \u001b[38;5;28mself\u001b[39m\u001b[38;5;241m.\u001b[39mexceptions\u001b[38;5;241m.\u001b[39mfrom_code(error_code)\n\u001b[0;32m--> 960\u001b[0m     \u001b[38;5;28;01mraise\u001b[39;00m error_class(parsed_response, operation_name)\n\u001b[1;32m    961\u001b[0m \u001b[38;5;28;01melse\u001b[39;00m:\n\u001b[1;32m    962\u001b[0m     \u001b[38;5;28;01mreturn\u001b[39;00m parsed_response\n",
      "\u001b[0;31mClientError\u001b[0m: An error occurred (InvalidParameterCombination) when calling the RunInstances operation: The parameter groupName cannot be used with the parameter subnet"
     ]
    }
   ],
   "source": [
    "instance = client.run_instances(ImageId='ami-06e85d4c3149db26a', InstanceType='t2.micro', KeyName='MyKeyPair', \n",
    "                                SecurityGroups= [sg.id], SubnetId=subnet_1.id, \n",
    "                               MinCount=1, MaxCount=1)"
   ]
  },
  {
   "cell_type": "code",
   "execution_count": null,
   "id": "9ad9f487",
   "metadata": {},
   "outputs": [],
   "source": []
  }
 ],
 "metadata": {
  "kernelspec": {
   "display_name": "Python 3 (ipykernel)",
   "language": "python",
   "name": "python3"
  },
  "language_info": {
   "codemirror_mode": {
    "name": "ipython",
    "version": 3
   },
   "file_extension": ".py",
   "mimetype": "text/x-python",
   "name": "python",
   "nbconvert_exporter": "python",
   "pygments_lexer": "ipython3",
   "version": "3.9.15"
  }
 },
 "nbformat": 4,
 "nbformat_minor": 5
}
