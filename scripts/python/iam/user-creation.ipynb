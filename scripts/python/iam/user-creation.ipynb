{
 "cells": [
  {
   "cell_type": "code",
   "execution_count": 1,
   "id": "496006af",
   "metadata": {},
   "outputs": [],
   "source": [
    "import boto3"
   ]
  },
  {
   "cell_type": "code",
   "execution_count": 4,
   "id": "2ce3f9b4",
   "metadata": {},
   "outputs": [],
   "source": [
    "iam = boto3.client(\"iam\")"
   ]
  },
  {
   "cell_type": "code",
   "execution_count": 5,
   "id": "28a23915",
   "metadata": {},
   "outputs": [
    {
     "data": {
      "text/plain": [
       "{'User': {'Path': '/',\n",
       "  'UserName': 'user1',\n",
       "  'UserId': 'AIDA4D7XARGDZRJIWCU3R',\n",
       "  'Arn': 'arn:aws:iam::833204816263:user/user1',\n",
       "  'CreateDate': datetime.datetime(2023, 2, 25, 16, 47, tzinfo=tzutc())},\n",
       " 'ResponseMetadata': {'RequestId': '730ba9a3-87f8-4255-b2fa-541e5387e020',\n",
       "  'HTTPStatusCode': 200,\n",
       "  'HTTPHeaders': {'x-amzn-requestid': '730ba9a3-87f8-4255-b2fa-541e5387e020',\n",
       "   'content-type': 'text/xml',\n",
       "   'content-length': '471',\n",
       "   'date': 'Sat, 25 Feb 2023 16:46:59 GMT'},\n",
       "  'RetryAttempts': 0}}"
      ]
     },
     "execution_count": 5,
     "metadata": {},
     "output_type": "execute_result"
    }
   ],
   "source": [
    "response = iam.create_user(UserName='user1')\n",
    "response"
   ]
  },
  {
   "cell_type": "code",
   "execution_count": 6,
   "id": "be21f0a8",
   "metadata": {},
   "outputs": [],
   "source": [
    "response = iam.delete_user(UserName='user1')"
   ]
  },
  {
   "cell_type": "code",
   "execution_count": 7,
   "id": "6d847cdb",
   "metadata": {},
   "outputs": [
    {
     "data": {
      "text/plain": [
       "{'ResponseMetadata': {'RequestId': '99411d93-77d4-4025-9204-5a319c50e7aa',\n",
       "  'HTTPStatusCode': 200,\n",
       "  'HTTPHeaders': {'x-amzn-requestid': '99411d93-77d4-4025-9204-5a319c50e7aa',\n",
       "   'content-type': 'text/xml',\n",
       "   'content-length': '200',\n",
       "   'date': 'Sat, 25 Feb 2023 16:48:37 GMT'},\n",
       "  'RetryAttempts': 0}}"
      ]
     },
     "execution_count": 7,
     "metadata": {},
     "output_type": "execute_result"
    }
   ],
   "source": [
    "response"
   ]
  },
  {
   "cell_type": "code",
   "execution_count": null,
   "id": "d59926e1",
   "metadata": {},
   "outputs": [],
   "source": []
  }
 ],
 "metadata": {
  "kernelspec": {
   "display_name": "Python 3 (ipykernel)",
   "language": "python",
   "name": "python3"
  },
  "language_info": {
   "codemirror_mode": {
    "name": "ipython",
    "version": 3
   },
   "file_extension": ".py",
   "mimetype": "text/x-python",
   "name": "python",
   "nbconvert_exporter": "python",
   "pygments_lexer": "ipython3",
   "version": "3.10.6"
  }
 },
 "nbformat": 4,
 "nbformat_minor": 5
}
